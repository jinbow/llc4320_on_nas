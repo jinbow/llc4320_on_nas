{
 "cells": [
  {
   "cell_type": "markdown",
   "metadata": {},
   "source": [
    "# Examples of using llc4320_on_nas.py"
   ]
  },
  {
   "cell_type": "code",
   "execution_count": null,
   "metadata": {},
   "outputs": [],
   "source": [
    "import llc4320_on_nas as llc \n",
    "import matplotlib.pylab as plt \n",
    "from datetime import datetime \n",
    "import numpy as np \n",
    "\n",
    "t0 = datetime(2011,10,10,12)\n",
    "sst = llc.load_llc4320_compressed_2d('Theta',k=0,time=t0,retile=True)\n",
    "display(len(sst),sst[0].shape,sst[1].shape)\n",
    "\n",
    "sst = np.c_[sst[0], sst[1].T] # combine eastern and western hemisphere\n",
    "\n",
    "display(sst.shape) \n",
    "\n",
    "xc = llc.load_llc_grid('XC')\n",
    "yc = llc.load_llc_grid('YC')\n",
    "\n",
    "display(xc.shape,yc.shape)\n",
    "\n",
    "plt.pcolor(xc[::96,::96],yc[::96,::96],sst[::96,::96])\n",
    "\n",
    "plt.savefig('tmp.png')"
   ]
  }
 ],
 "metadata": {
  "language_info": {
   "name": "python"
  }
 },
 "nbformat": 4,
 "nbformat_minor": 2
}
