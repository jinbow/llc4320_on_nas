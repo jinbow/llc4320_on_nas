{
 "cells": [
  {
   "cell_type": "markdown",
   "metadata": {},
   "source": [
    "# Examples of using llc4320_on_nas.py"
   ]
  },
  {
   "cell_type": "code",
   "execution_count": null,
   "metadata": {},
   "outputs": [],
   "source": [
    "import llc4320_on_nas as llc \n",
    "import matplotlib.pylab as plt \n",
    "from datetime import datetime \n",
    "import numpy as np \n",
    "\n",
    "t0 = datetime(2011,10,10,12)\n",
    "sst = llc.load_llc4320_compressed_2d('Theta',k=0,time=t0,retile=True)\n",
    "display(len(sst),sst[0].shape,sst[1].shape)\n",
    "\n",
    "# combine tiles\n",
    "# Here is a layout of llc grid: https://podaac.jpl.nasa.gov/Podaac/thumbnails/ECCO_L4_OBP_LLC0090GRID_MONTHLY_V4R4.jpg\n",
    "# sst[0] includes tiles 1-6, sst[1] include tiles 8-13 (rotated)\n",
    "# Each tile has 4320x4320 points. sst[0] has 3x2 tiles. sst[1] has 2x3 tiles. \n",
    "# The following line provides a global coverage without the Arctic (tile 7)\n",
    "# The combined array has shape (12960, 17280), the same as the two coordinates xc (lon), yc (lat) below. \n",
    "sst = np.c_[sst[0], sst[1].T[:,::-1]] \n",
    "\n",
    "display(sst.shape) \n",
    "\n",
    "xc = llc.load_llc_grid('XC') #longitude shape (12960, 17280)\n",
    "yc = llc.load_llc_grid('YC') #latitude shape (12960, 17280)\n",
    "\n",
    "display(xc.shape,yc.shape)\n",
    "\n",
    "plt.pcolor(xc[::96,::96],yc[::96,::96],sst[::96,::96]) #skip values to speed up rendering"
   ]
  }
 ],
 "metadata": {
  "language_info": {
   "name": "python"
  }
 },
 "nbformat": 4,
 "nbformat_minor": 2
}
